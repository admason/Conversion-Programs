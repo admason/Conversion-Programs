{
 "cells": [
  {
   "cell_type": "code",
   "execution_count": null,
   "metadata": {},
   "outputs": [],
   "source": [
    "#  Conversion of length\n",
    "\"\"\"Imperial unit\tSI unit m\n",
    "1 inch\t2.5 cm = 2.5/100 m\n",
    "1 foot (singular of feet)\t30 cm = 30/100= 0.3m\n",
    "1 yard\t0.9 m\n",
    "1 mile\t1.6 km = 1.6*1000m\"\"\""
   ]
  },
  {
   "cell_type": "code",
   "execution_count": 8,
   "metadata": {},
   "outputs": [],
   "source": [
    "import math as m\n",
    "import tkinter as tk\n",
    "root =tk.Tk()\n",
    "\n",
    "canvas1 =tk.Canvas(root, width = 300, height=200)\n",
    "canvas1.pack()\n",
    "\n",
    "label1 = tk.Label(root,text='Metres:')\n",
    "label1.config(font=('helvetica',14))\n",
    "canvas1.create_window(50, 25, window=label1)\n",
    "entry1= tk.Entry(root)\n",
    "canvas1.create_window(150, 25 , window=entry1)\n",
    "\n",
    "\n",
    "\n",
    "#label2 = tk.Label(root,text=\"Inches: \")\n",
    "#label2.config(font=('helvetica',12))\n",
    "#canvas1.create_window(100,50,window = label2)\n",
    "\n",
    "def getinches():\n",
    "    x1 = entry1.get()\n",
    "    label3=tk.Label(root,text=round(float(x1)*39.37,2),font=('helvetica',12,'bold'))\n",
    "    canvas1.create_window(150,80, window=label3)\n",
    "\n",
    "def getfeet():\n",
    "    x2 = entry1.get()\n",
    "    label4=tk.Label(root,text=round(float(x2)/0.3,2),font=('helvetica',12,'bold'))\n",
    "    canvas1.create_window(150,110, window=label4)\n",
    "\n",
    "def getyards():\n",
    "    x3 = entry1.get()\n",
    "    label5=tk.Label(root,text=round(float(x3)/0.9,2),font=('helvetica',12,'bold'))\n",
    "    canvas1.create_window(150,140,window=label5)\n",
    "\n",
    "def getmiles():\n",
    "    x4 = entry1.get()\n",
    "    label6=tk.Label(root,text=round(float(x4)/1600,2),font=('helvetica',12,'bold'))\n",
    "    canvas1.create_window(150,170,window=label6)      \n",
    "\n",
    "\n",
    "    \n",
    "button1 = tk.Button(text='Inches', command=getinches)\n",
    "canvas1.create_window(70, 80, window=button1)\n",
    "button2 = tk.Button(text='Feet',command=getfeet)\n",
    "canvas1.create_window(70,110,window=button2)\n",
    "\n",
    "button3 = tk.Button(text='Yards', command=getyards)\n",
    "canvas1.create_window(70,140,window=button3)\n",
    "button4 = tk.Button(text='Miles', command=getmiles)\n",
    "canvas1.create_window(70,170,window=button4)\n",
    "\n",
    "\n",
    "\n",
    "\n",
    "root.mainloop()"
   ]
  },
  {
   "cell_type": "code",
   "execution_count": null,
   "metadata": {},
   "outputs": [],
   "source": [
   
    "\n",
    "\n"
   ]
  },
  {
   "cell_type": "code",
   "execution_count": null,
   "metadata": {},
   "outputs": [],
   "source": []
  }
 ],
 "metadata": {
  "kernelspec": {
   "display_name": "Python 3",
   "language": "python",
   "name": "python3"
  },
  "language_info": {
   "codemirror_mode": {
    "name": "ipython",
    "version": 3
   },
   "file_extension": ".py",
   "mimetype": "text/x-python",
   "name": "python",
   "nbconvert_exporter": "python",
   "pygments_lexer": "ipython3",
   "version": "3.7.1"
  }
 },
 "nbformat": 4,
 "nbformat_minor": 2
}
